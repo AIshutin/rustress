{
  "nbformat": 4,
  "nbformat_minor": 0,
  "metadata": {
    "colab": {
      "name": "Model_creation.ipynb",
      "version": "0.3.2",
      "provenance": []
    },
    "kernelspec": {
      "display_name": "Python 3",
      "language": "python",
      "name": "python3"
    }
  },
  "cells": [
    {
      "metadata": {
        "id": "9CxprmGacTaN",
        "colab_type": "text"
      },
      "cell_type": "markdown",
      "source": [
        "# Rustress"
      ]
    },
    {
      "metadata": {
        "id": "1BMFUZOCcTaS",
        "colab_type": "text"
      },
      "cell_type": "markdown",
      "source": [
        "Model training"
      ]
    },
    {
      "metadata": {
        "id": "twR0dHEDcVS7",
        "colab_type": "code",
        "outputId": "9a5fdb77-02ad-4e8b-fa27-ac913e305041",
        "colab": {
          "base_uri": "https://localhost:8080/",
          "height": 34
        }
      },
      "cell_type": "code",
      "source": [
        "!git clone https://github.com/AIshutin/rustress"
      ],
      "execution_count": 0,
      "outputs": [
        {
          "output_type": "stream",
          "text": [
            "fatal: destination path 'rustress' already exists and is not an empty directory.\n"
          ],
          "name": "stdout"
        }
      ]
    },
    {
      "metadata": {
        "id": "L_c9XbmRcTaV",
        "colab_type": "code",
        "outputId": "4347934d-b676-42a6-9112-795be69bd02d",
        "colab": {
          "base_uri": "https://localhost:8080/",
          "height": 52
        }
      },
      "cell_type": "code",
      "source": [
        "!unzip rustress/stressdb.zip\n",
        "!ls"
      ],
      "execution_count": 0,
      "outputs": [
        {
          "output_type": "stream",
          "text": [
            "Archive:  rustress/stressdb.zip\n",
            "replace stressdb.json? [y]es, [n]o, [A]ll, [N]one, [r]ename: rustress  sample_data  stressdb.json\n"
          ],
          "name": "stdout"
        }
      ]
    },
    {
      "metadata": {
        "id": "0VTpCF9ScTar",
        "colab_type": "code",
        "outputId": "1d60346b-9b47-46de-a093-13630ed4d721",
        "colab": {
          "base_uri": "https://localhost:8080/",
          "height": 34
        }
      },
      "cell_type": "code",
      "source": [
        "!du -h stressdb.json"
      ],
      "execution_count": 0,
      "outputs": [
        {
          "output_type": "stream",
          "text": [
            "111M\tstressdb.json\n"
          ],
          "name": "stdout"
        }
      ]
    },
    {
      "metadata": {
        "id": "CoangupZcyxx",
        "colab_type": "code",
        "outputId": "ef39fd6f-63a1-4c2b-a502-bd17986e890b",
        "colab": {
          "base_uri": "https://localhost:8080/",
          "height": 104
        }
      },
      "cell_type": "code",
      "source": [
        "!pip3 install pymorphy2\n",
        "!pip install -U pymorphy2-dicts-ru"
      ],
      "execution_count": 0,
      "outputs": [
        {
          "output_type": "stream",
          "text": [
            "Requirement already satisfied: pymorphy2 in /usr/local/lib/python3.6/dist-packages (0.8)\n",
            "Requirement already satisfied: dawg-python>=0.7 in /usr/local/lib/python3.6/dist-packages (from pymorphy2) (0.7.2)\n",
            "Requirement already satisfied: docopt>=0.6 in /usr/local/lib/python3.6/dist-packages (from pymorphy2) (0.6.2)\n",
            "Requirement already satisfied: pymorphy2-dicts<3.0,>=2.4 in /usr/local/lib/python3.6/dist-packages (from pymorphy2) (2.4.393442.3710985)\n",
            "Requirement already up-to-date: pymorphy2-dicts-ru in /usr/local/lib/python3.6/dist-packages (2.4.404381.4453942)\n"
          ],
          "name": "stdout"
        }
      ]
    },
    {
      "metadata": {
        "id": "OZYCsv7ScTa0",
        "colab_type": "code",
        "colab": {}
      },
      "cell_type": "code",
      "source": [
        "import pymorphy2 as py\n",
        "morph = py.MorphAnalyzer()\n",
        "stress_char = \"ре́с\"[2]"
      ],
      "execution_count": 0,
      "outputs": []
    },
    {
      "metadata": {
        "id": "60xkqxLBcTa5",
        "colab_type": "code",
        "colab": {}
      },
      "cell_type": "code",
      "source": [
        "import json\n",
        "stressdb = json.loads(open('stressdb.json').read())"
      ],
      "execution_count": 0,
      "outputs": []
    },
    {
      "metadata": {
        "id": "cs3exleEcTa-",
        "colab_type": "code",
        "outputId": "355f568f-5eb7-4bc3-8b7a-676f0e92ef5e",
        "colab": {
          "base_uri": "https://localhost:8080/",
          "height": 54
        }
      },
      "cell_type": "code",
      "source": [
        "print(list(stressdb.items())[:10])"
      ],
      "execution_count": 0,
      "outputs": [
        {
          "output_type": "stream",
          "text": [
            "[('солнышек', 'со́лнышек'), ('солнышка', 'со́лнышка'), ('солнышках', 'со́лнышках'), ('солнышки', 'со́лнышки'), ('солнышками', 'со́лнышками'), ('солнышку', 'со́лнышку'), ('солнышкам', 'со́лнышкам'), ('солнышке', 'со́лнышке'), ('солнышком', 'со́лнышком'), ('солнышко', 'со́лнышко')]\n"
          ],
          "name": "stdout"
        }
      ]
    },
    {
      "metadata": {
        "id": "PZivbw6RcTbH",
        "colab_type": "code",
        "outputId": "c63f5bf7-a532-4afb-c4dc-d8d3b78f623f",
        "colab": {
          "base_uri": "https://localhost:8080/",
          "height": 72
        }
      },
      "cell_type": "code",
      "source": [
        "MAX_VOW = 0\n",
        "MAX_LENGTH = 0\n",
        "vow = 'уеыаоэяиюё'\n",
        "chars = set()\n",
        "for el in stressdb:\n",
        "    chars.update(el)\n",
        "    curr = 0\n",
        "    for c in el:\n",
        "        curr += c in vow\n",
        "    MAX_VOW = max(curr, MAX_VOW)\n",
        "    MAX_LENGTH = max(MAX_LENGTH, len(el))\n",
        "print(MAX_LENGTH)\n",
        "print(chars)"
      ],
      "execution_count": 0,
      "outputs": [
        {
          "output_type": "stream",
          "text": [
            "26\n",
            "{'н', 'Н', 'ш', 'т', 'З', 'ѝ', 'д', 'И', 'ю', 'Ф', 'л', 'Д', 'в', 'м', 'р', 'С', 'г', 'М', 'й', 'А', 'е', 'ц', 'с', 'ї', 'б', 'ж', 'щ', 'ё', 'П', 'Г', 'Е', 'ь', 'ѐ', 'и', 'з', 'ф', 'ъ', 'c', 'Я', 'Э', 'о', 'а', 'В', 'Р', 'э', 'п', 'у', 'К', 'a', 'Б', 'ч', 'e', 'х', 'і', 'к', 'я', 'ы'}\n"
          ],
          "name": "stdout"
        }
      ]
    },
    {
      "metadata": {
        "id": "jKTYk-4rcTbQ",
        "colab_type": "code",
        "colab": {}
      },
      "cell_type": "code",
      "source": [
        "good = '@ёйцукенгшщзхфывапролджэячсмитьъбю'\n",
        "c2id = dict()\n",
        "id2c = dict()\n",
        "for i in range(len(good)):\n",
        "    id2c[i] = good[i]\n",
        "    c2id[good[i]] = i"
      ],
      "execution_count": 0,
      "outputs": []
    },
    {
      "metadata": {
        "id": "b2Hd4wgXcTba",
        "colab_type": "code",
        "colab": {}
      },
      "cell_type": "code",
      "source": [
        "import numpy as np\n",
        "#import pandas as pd"
      ],
      "execution_count": 0,
      "outputs": []
    },
    {
      "metadata": {
        "id": "NpCwsjPTcTbm",
        "colab_type": "code",
        "colab": {}
      },
      "cell_type": "code",
      "source": [
        "feat = ['aspect', 'case', 'POS', 'mood', 'gender', 'number', 'person', 'tense', 'voice', 'transitivity']\n",
        "\n",
        "feat2id = [dict() for i in range(len(feat))]\n",
        "\n",
        "def enum_feat(key):\n",
        "  key = key.lower()\n",
        "  word = morph.parse(key)[0]\n",
        "  for i in range(len(feat)):\n",
        "    curr = None\n",
        "    try:\n",
        "      curr = eval('word.tag.' + feat[i])\n",
        "    except:\n",
        "      pass\n",
        "    if curr not in feat2id[i]:\n",
        "      size = len(feat2id)\n",
        "      feat2id[i][curr] = size"
      ],
      "execution_count": 0,
      "outputs": []
    },
    {
      "metadata": {
        "id": "LvqqxdTUn3lC",
        "colab_type": "code",
        "colab": {}
      },
      "cell_type": "code",
      "source": [
        "import random as rd\n",
        "data = list(stressdb.items())\n",
        "rd.shuffle(data)\n",
        "X = []\n",
        "Y = []\n",
        "cnt1 = 0\n",
        "cnt2 = 0\n",
        "cnt3 = 0\n",
        "s1 = []\n",
        "s2 = []\n",
        "for (key, val) in data[:]:\n",
        "    key = key.lower()\n",
        "    if 'і' in key:\n",
        "        cnt1 += 1\n",
        "        s1.append([key, val])\n",
        "        continue\n",
        "    bad = {'ѐ', 'ѐ', 'a', 'c', 'ї'}\n",
        "    ok = True\n",
        "    for el in bad:\n",
        "        if el in key:\n",
        "            ok = False\n",
        "            cnt2 += 1\n",
        "            break\n",
        "    for el in key:\n",
        "        if ord(el) < 255:\n",
        "            ok = False\n",
        "    if not ok:\n",
        "        continue\n",
        "    enum_feat(key)"
      ],
      "execution_count": 0,
      "outputs": []
    },
    {
      "metadata": {
        "id": "NZql8wgVnoea",
        "colab_type": "code",
        "colab": {}
      },
      "cell_type": "code",
      "source": [
        "cnts = [len(feat2id[i]) for i in range(len(feat))]"
      ],
      "execution_count": 0,
      "outputs": []
    },
    {
      "metadata": {
        "id": "CNwndK8Hmygl",
        "colab_type": "code",
        "colab": {}
      },
      "cell_type": "code",
      "source": [
        "def prepare_data(key, val):\n",
        "    key = key.replace('ѝ', 'й')[::-1]\n",
        "    val = val.replace('ѝ', 'й')[::-1]\n",
        "    word = morph.parse(key)[0]\n",
        "    row = np.zeros(MAX_LENGTH * len(chars) + sum(cnts), dtype=np.bool)\n",
        "    curr = 0\n",
        "    for i in range(len(feat)):\n",
        "        #print('word.tag.' + feat[i])\n",
        "        #print(word.tag.aspect)\n",
        "        try:\n",
        "            row[curr + feat2id[eval('word.tag.' + feat[i])]] = 1\n",
        "        except:\n",
        "            pass\n",
        "        curr += cnts[i]\n",
        "    for i in range(len(key)):\n",
        "        row[curr + c2id[key[i]] - 1] = 1\n",
        "        curr += len(chars)\n",
        "    ind = 0\n",
        "    for i in range(len(val)):\n",
        "        if val[i] == stress_char:\n",
        "            break\n",
        "        ind += 1\n",
        "    res = np.zeros(MAX_LENGTH, dtype=np.bool)\n",
        "    res[ind] = 1\n",
        "    return (row, res)    "
      ],
      "execution_count": 0,
      "outputs": []
    },
    {
      "metadata": {
        "id": "0RmBfCn3cTbs",
        "colab_type": "code",
        "colab": {}
      },
      "cell_type": "code",
      "source": [
        "import random as rd\n",
        "data = list(stressdb.items())\n",
        "rd.shuffle(data)\n",
        "X = []\n",
        "Y = []\n",
        "cnt1 = 0\n",
        "cnt2 = 0\n",
        "cnt3 = 0\n",
        "s1 = []\n",
        "s2 = []\n",
        "for key, val in data[:]:\n",
        "    key = key.lower()\n",
        "    val = val.lower()\n",
        "    if 'і' in key:\n",
        "        cnt1 += 1\n",
        "        s1.append([key, val])\n",
        "        continue\n",
        "    bad = {'ѐ', 'ѐ', 'a', 'c', 'ї'}\n",
        "    ok = True\n",
        "    for el in bad:\n",
        "        if el in val + key:\n",
        "            ok = False\n",
        "            s2.append([el, val, key])\n",
        "            cnt2 += 1\n",
        "            break\n",
        "    for el in val + key:\n",
        "        if ord(el) < 255:\n",
        "            ok = False\n",
        "    if not ok:\n",
        "        continue\n",
        "    if key == val:\n",
        "        cnt3 += 1\n",
        "        continue\n",
        "    try:\n",
        "        (x, y) = prepare_data(key, val)\n",
        "        X.append(x)\n",
        "        Y.append(y)\n",
        "    except Exception as exp:\n",
        "        print(exp.args, exp)\n",
        "        print(key, val)\n",
        "        print(len(key), len(val))\n",
        "        for el in bad:\n",
        "            print(el, el in val + key)\n",
        "        break"
      ],
      "execution_count": 0,
      "outputs": []
    },
    {
      "metadata": {
        "id": "6bEBTKkHcTbv",
        "colab_type": "code",
        "outputId": "c8020b40-6a92-44ad-ec60-75f306642049",
        "colab": {
          "base_uri": "https://localhost:8080/",
          "height": 86
        }
      },
      "cell_type": "code",
      "source": [
        "prepare_data('вкомпоновываться',  'вкомпоно́вываться')"
      ],
      "execution_count": 0,
      "outputs": [
        {
          "output_type": "execute_result",
          "data": {
            "text/plain": [
              "(array([False, False, False, ..., False, False, False]),\n",
              " array([False, False, False, False, False, False, False, False,  True,\n",
              "        False, False, False, False, False, False, False, False, False,\n",
              "        False, False, False, False, False, False, False, False]))"
            ]
          },
          "metadata": {
            "tags": []
          },
          "execution_count": 30
        }
      ]
    },
    {
      "metadata": {
        "id": "JO9ylXdlp4_b",
        "colab_type": "code",
        "outputId": "da64043b-ed54-47f7-def5-7db3b50e278a",
        "colab": {
          "base_uri": "https://localhost:8080/",
          "height": 34
        }
      },
      "cell_type": "code",
      "source": [
        "prepare_data('вкомпоновываться',  'вкомпоно́вываться')[0].shape"
      ],
      "execution_count": 0,
      "outputs": [
        {
          "output_type": "execute_result",
          "data": {
            "text/plain": [
              "(1537,)"
            ]
          },
          "metadata": {
            "tags": []
          },
          "execution_count": 32
        }
      ]
    },
    {
      "metadata": {
        "scrolled": true,
        "id": "kEMU7EpacTb5",
        "colab_type": "code",
        "outputId": "da0aeb0d-1413-4592-fe57-038b3c8d2118",
        "colab": {
          "base_uri": "https://localhost:8080/",
          "height": 34
        }
      },
      "cell_type": "code",
      "source": [
        "print(len(X))"
      ],
      "execution_count": 0,
      "outputs": [
        {
          "output_type": "stream",
          "text": [
            "847706\n"
          ],
          "name": "stdout"
        }
      ]
    },
    {
      "metadata": {
        "id": "Pm8asOSocTcA",
        "colab_type": "code",
        "outputId": "7873ec8b-9edd-411c-be11-d4e56ea9e85a",
        "colab": {
          "base_uri": "https://localhost:8080/",
          "height": 34
        }
      },
      "cell_type": "code",
      "source": [
        "print(cnt1, cnt2, cnt3)"
      ],
      "execution_count": 0,
      "outputs": [
        {
          "output_type": "stream",
          "text": [
            "18 2635 0\n"
          ],
          "name": "stdout"
        }
      ]
    },
    {
      "metadata": {
        "id": "lZvCBg_AcTcH",
        "colab_type": "code",
        "colab": {}
      },
      "cell_type": "code",
      "source": [
        "X = np.array(X)\n",
        "Y = np.array(Y)"
      ],
      "execution_count": 0,
      "outputs": []
    },
    {
      "metadata": {
        "id": "VXmnD3O4cTcf",
        "colab_type": "code",
        "colab": {}
      },
      "cell_type": "code",
      "source": [
        "np.save('Xstress', X)\n",
        "np.save('Ystress', Y)"
      ],
      "execution_count": 0,
      "outputs": []
    },
    {
      "metadata": {
        "id": "MKzCg_3wcTco",
        "colab_type": "code",
        "outputId": "492093f4-e11a-45d9-854d-22bff231a864",
        "colab": {
          "base_uri": "https://localhost:8080/",
          "height": 34
        }
      },
      "cell_type": "code",
      "source": [
        "len(X[0])"
      ],
      "execution_count": 0,
      "outputs": [
        {
          "output_type": "execute_result",
          "data": {
            "text/plain": [
              "1492"
            ]
          },
          "metadata": {
            "tags": []
          },
          "execution_count": 20
        }
      ]
    },
    {
      "metadata": {
        "id": "-HIdwCl_cTcw",
        "colab_type": "code",
        "colab": {}
      },
      "cell_type": "code",
      "source": [
        "from sklearn.model_selection import train_test_split\n",
        "\n",
        "X_train, X_test, Y_train, Y_test = train_test_split(X, Y, test_size=0.3)"
      ],
      "execution_count": 0,
      "outputs": []
    },
    {
      "metadata": {
        "id": "wkEUK9N7cTc7",
        "colab_type": "code",
        "outputId": "b1cbcfdf-97ce-44b9-e1fb-872e7d0f0b1c",
        "colab": {
          "base_uri": "https://localhost:8080/",
          "height": 34
        }
      },
      "cell_type": "code",
      "source": [
        "X_train.shape"
      ],
      "execution_count": 0,
      "outputs": [
        {
          "output_type": "execute_result",
          "data": {
            "text/plain": [
              "(593394, 1537)"
            ]
          },
          "metadata": {
            "tags": []
          },
          "execution_count": 38
        }
      ]
    },
    {
      "metadata": {
        "id": "JJAx5v9IcTc_",
        "colab_type": "code",
        "outputId": "c9542a42-ed27-409c-cd03-f360bb0e89b0",
        "colab": {
          "base_uri": "https://localhost:8080/",
          "height": 34
        }
      },
      "cell_type": "code",
      "source": [
        "Y_train.shape"
      ],
      "execution_count": 0,
      "outputs": [
        {
          "output_type": "execute_result",
          "data": {
            "text/plain": [
              "(593394, 26)"
            ]
          },
          "metadata": {
            "tags": []
          },
          "execution_count": 39
        }
      ]
    },
    {
      "metadata": {
        "id": "DLKmjjywcTdK",
        "colab_type": "code",
        "colab": {}
      },
      "cell_type": "code",
      "source": [
        "ans = [0] "
      ],
      "execution_count": 0,
      "outputs": []
    },
    {
      "metadata": {
        "id": "miWy7T8scTdN",
        "colab_type": "code",
        "outputId": "22190a1a-0b30-4c42-b7ad-a3ed5843ca98",
        "colab": {
          "base_uri": "https://localhost:8080/",
          "height": 34
        }
      },
      "cell_type": "code",
      "source": [
        "import keras"
      ],
      "execution_count": 0,
      "outputs": [
        {
          "output_type": "stream",
          "text": [
            "Using TensorFlow backend.\n"
          ],
          "name": "stderr"
        }
      ]
    },
    {
      "metadata": {
        "id": "DDYK5N-ucTdU",
        "colab_type": "code",
        "colab": {}
      },
      "cell_type": "code",
      "source": [
        "from keras.models import Sequential\n",
        "from keras.layers import Dense\n",
        "\n",
        "model = Sequential()\n",
        "model.add(Dense(32, input_dim=X.shape[-1], activation='relu'))\n",
        "model.add(Dense(16, activation='relu'))\n",
        "model.add(Dense(8, activation='sigmoid'))\n",
        "model.add(Dense(MAX_LENGTH, activation='softmax'))\n",
        "\n",
        "model.compile(loss='categorical_crossentropy', optimizer='adam', metrics=['accuracy'])"
      ],
      "execution_count": 0,
      "outputs": []
    },
    {
      "metadata": {
        "id": "LZQIHJpKcTdY",
        "colab_type": "code",
        "outputId": "33981d5a-d7a9-4de2-c681-acf4bfde88d8",
        "colab": {
          "base_uri": "https://localhost:8080/",
          "height": 1076
        }
      },
      "cell_type": "code",
      "source": [
        "model.fit(X_train, Y_train, epochs=30, batch_size=60)"
      ],
      "execution_count": 0,
      "outputs": [
        {
          "output_type": "stream",
          "text": [
            "Epoch 1/30\n",
            "593394/593394 [==============================] - 29s 49us/step - loss: 0.9550 - acc: 0.7034\n",
            "Epoch 2/30\n",
            "593394/593394 [==============================] - 28s 47us/step - loss: 0.6277 - acc: 0.7854\n",
            "Epoch 3/30\n",
            "593394/593394 [==============================] - 28s 47us/step - loss: 0.5638 - acc: 0.8017\n",
            "Epoch 4/30\n",
            "593394/593394 [==============================] - 28s 46us/step - loss: 0.5322 - acc: 0.8102\n",
            "Epoch 5/30\n",
            "593394/593394 [==============================] - 28s 47us/step - loss: 0.5123 - acc: 0.8155\n",
            "Epoch 6/30\n",
            "593394/593394 [==============================] - 29s 49us/step - loss: 0.4983 - acc: 0.8192\n",
            "Epoch 7/30\n",
            "593394/593394 [==============================] - 27s 46us/step - loss: 0.4884 - acc: 0.8218\n",
            "Epoch 8/30\n",
            "593394/593394 [==============================] - 28s 46us/step - loss: 0.4806 - acc: 0.8243\n",
            "Epoch 9/30\n",
            "593394/593394 [==============================] - 28s 47us/step - loss: 0.4743 - acc: 0.8259\n",
            "Epoch 10/30\n",
            "593394/593394 [==============================] - 28s 47us/step - loss: 0.4687 - acc: 0.8276\n",
            "Epoch 11/30\n",
            "593394/593394 [==============================] - 28s 47us/step - loss: 0.4639 - acc: 0.8289\n",
            "Epoch 12/30\n",
            "593394/593394 [==============================] - 29s 48us/step - loss: 0.4602 - acc: 0.8307\n",
            "Epoch 13/30\n",
            "593394/593394 [==============================] - 28s 47us/step - loss: 0.4565 - acc: 0.8314\n",
            "Epoch 14/30\n",
            "593394/593394 [==============================] - 27s 46us/step - loss: 0.4533 - acc: 0.8324\n",
            "Epoch 15/30\n",
            "593394/593394 [==============================] - 28s 47us/step - loss: 0.4505 - acc: 0.8334\n",
            "Epoch 16/30\n",
            "593394/593394 [==============================] - 28s 47us/step - loss: 0.4478 - acc: 0.8343\n",
            "Epoch 17/30\n",
            "593394/593394 [==============================] - 28s 47us/step - loss: 0.4457 - acc: 0.8344\n",
            "Epoch 18/30\n",
            "593394/593394 [==============================] - 27s 46us/step - loss: 0.4434 - acc: 0.8356\n",
            "Epoch 19/30\n",
            "593394/593394 [==============================] - 27s 46us/step - loss: 0.4412 - acc: 0.8360\n",
            "Epoch 20/30\n",
            "593394/593394 [==============================] - 27s 46us/step - loss: 0.4395 - acc: 0.8368\n",
            "Epoch 21/30\n",
            "593394/593394 [==============================] - 27s 46us/step - loss: 0.4379 - acc: 0.8372\n",
            "Epoch 22/30\n",
            "593394/593394 [==============================] - 27s 46us/step - loss: 0.4361 - acc: 0.8378\n",
            "Epoch 23/30\n",
            "593394/593394 [==============================] - 28s 47us/step - loss: 0.4346 - acc: 0.8380\n",
            "Epoch 24/30\n",
            "593394/593394 [==============================] - 27s 46us/step - loss: 0.4332 - acc: 0.8384\n",
            "Epoch 25/30\n",
            "593394/593394 [==============================] - 27s 45us/step - loss: 0.4318 - acc: 0.8392\n",
            "Epoch 26/30\n",
            "593394/593394 [==============================] - 27s 45us/step - loss: 0.4306 - acc: 0.8396\n",
            "Epoch 27/30\n",
            "593394/593394 [==============================] - 27s 46us/step - loss: 0.4292 - acc: 0.8401\n",
            "Epoch 28/30\n",
            "593394/593394 [==============================] - 30s 50us/step - loss: 0.4282 - acc: 0.8405\n",
            "Epoch 29/30\n",
            "593394/593394 [==============================] - 29s 49us/step - loss: 0.4273 - acc: 0.8404\n",
            "Epoch 30/30\n",
            "593394/593394 [==============================] - 27s 46us/step - loss: 0.4263 - acc: 0.8409\n"
          ],
          "name": "stdout"
        },
        {
          "output_type": "execute_result",
          "data": {
            "text/plain": [
              "<keras.callbacks.History at 0x7f91b8b6f7b8>"
            ]
          },
          "metadata": {
            "tags": []
          },
          "execution_count": 44
        }
      ]
    },
    {
      "metadata": {
        "id": "AV4NllXCcTde",
        "colab_type": "code",
        "outputId": "75420485-3975-4e14-b88c-805e741bff8f",
        "colab": {
          "base_uri": "https://localhost:8080/",
          "height": 69
        }
      },
      "cell_type": "code",
      "source": [
        "scores = model.evaluate(X_test, Y_test)\n",
        "print(\"\\n%s: %.2f%%\" % (model.metrics_names[1], scores[1]*100))"
      ],
      "execution_count": 0,
      "outputs": [
        {
          "output_type": "stream",
          "text": [
            "254312/254312 [==============================] - 7s 28us/step\n",
            "\n",
            "acc: 83.08%\n"
          ],
          "name": "stdout"
        }
      ]
    },
    {
      "metadata": {
        "id": "LWCkOdRecTdh",
        "colab_type": "code",
        "outputId": "d9f66fd8-3d9b-4427-f906-e0d45dd9b07e",
        "colab": {
          "base_uri": "https://localhost:8080/",
          "height": 688
        }
      },
      "cell_type": "code",
      "source": [
        "model.save('model.h5')\n",
        "with open('c2id.json', 'w', encoding='utf-8') as file:\n",
        "    print(json.dumps(c2id), file=file)\n",
        "with open('back.json', 'w') as file:\n",
        "    print(json.dumps(feat2id), file=file)"
      ],
      "execution_count": 0,
      "outputs": [
        {
          "output_type": "error",
          "ename": "TypeError",
          "evalue": "ignored",
          "traceback": [
            "\u001b[0;31m---------------------------------------------------------------------------\u001b[0m",
            "\u001b[0;31mTypeError\u001b[0m                                 Traceback (most recent call last)",
            "\u001b[0;32m<ipython-input-60-1c35f2d52eca>\u001b[0m in \u001b[0;36m<module>\u001b[0;34m()\u001b[0m\n\u001b[1;32m      5\u001b[0m     \u001b[0mprint\u001b[0m\u001b[0;34m(\u001b[0m\u001b[0mjson\u001b[0m\u001b[0;34m.\u001b[0m\u001b[0mdumps\u001b[0m\u001b[0;34m(\u001b[0m\u001b[0mfeat2id\u001b[0m\u001b[0;34m)\u001b[0m\u001b[0;34m,\u001b[0m \u001b[0mfile\u001b[0m\u001b[0;34m=\u001b[0m\u001b[0mfile\u001b[0m\u001b[0;34m)\u001b[0m\u001b[0;34m\u001b[0m\u001b[0;34m\u001b[0m\u001b[0m\n\u001b[1;32m      6\u001b[0m \u001b[0;32mwith\u001b[0m \u001b[0mopen\u001b[0m\u001b[0;34m(\u001b[0m\u001b[0;34m'chars.json'\u001b[0m\u001b[0;34m,\u001b[0m \u001b[0;34m'w'\u001b[0m\u001b[0;34m)\u001b[0m \u001b[0;32mas\u001b[0m \u001b[0mfile\u001b[0m\u001b[0;34m:\u001b[0m\u001b[0;34m\u001b[0m\u001b[0;34m\u001b[0m\u001b[0m\n\u001b[0;32m----> 7\u001b[0;31m     \u001b[0mprint\u001b[0m\u001b[0;34m(\u001b[0m\u001b[0mjson\u001b[0m\u001b[0;34m.\u001b[0m\u001b[0mdumps\u001b[0m\u001b[0;34m(\u001b[0m\u001b[0mchars\u001b[0m\u001b[0;34m)\u001b[0m\u001b[0;34m,\u001b[0m \u001b[0mfile\u001b[0m\u001b[0;34m=\u001b[0m\u001b[0mfile\u001b[0m\u001b[0;34m)\u001b[0m\u001b[0;34m\u001b[0m\u001b[0;34m\u001b[0m\u001b[0m\n\u001b[0m",
            "\u001b[0;32m/usr/lib/python3.6/json/__init__.py\u001b[0m in \u001b[0;36mdumps\u001b[0;34m(obj, skipkeys, ensure_ascii, check_circular, allow_nan, cls, indent, separators, default, sort_keys, **kw)\u001b[0m\n\u001b[1;32m    229\u001b[0m         \u001b[0mcls\u001b[0m \u001b[0;32mis\u001b[0m \u001b[0;32mNone\u001b[0m \u001b[0;32mand\u001b[0m \u001b[0mindent\u001b[0m \u001b[0;32mis\u001b[0m \u001b[0;32mNone\u001b[0m \u001b[0;32mand\u001b[0m \u001b[0mseparators\u001b[0m \u001b[0;32mis\u001b[0m \u001b[0;32mNone\u001b[0m \u001b[0;32mand\u001b[0m\u001b[0;34m\u001b[0m\u001b[0;34m\u001b[0m\u001b[0m\n\u001b[1;32m    230\u001b[0m         default is None and not sort_keys and not kw):\n\u001b[0;32m--> 231\u001b[0;31m         \u001b[0;32mreturn\u001b[0m \u001b[0m_default_encoder\u001b[0m\u001b[0;34m.\u001b[0m\u001b[0mencode\u001b[0m\u001b[0;34m(\u001b[0m\u001b[0mobj\u001b[0m\u001b[0;34m)\u001b[0m\u001b[0;34m\u001b[0m\u001b[0;34m\u001b[0m\u001b[0m\n\u001b[0m\u001b[1;32m    232\u001b[0m     \u001b[0;32mif\u001b[0m \u001b[0mcls\u001b[0m \u001b[0;32mis\u001b[0m \u001b[0;32mNone\u001b[0m\u001b[0;34m:\u001b[0m\u001b[0;34m\u001b[0m\u001b[0;34m\u001b[0m\u001b[0m\n\u001b[1;32m    233\u001b[0m         \u001b[0mcls\u001b[0m \u001b[0;34m=\u001b[0m \u001b[0mJSONEncoder\u001b[0m\u001b[0;34m\u001b[0m\u001b[0;34m\u001b[0m\u001b[0m\n",
            "\u001b[0;32m/usr/lib/python3.6/json/encoder.py\u001b[0m in \u001b[0;36mencode\u001b[0;34m(self, o)\u001b[0m\n\u001b[1;32m    197\u001b[0m         \u001b[0;31m# exceptions aren't as detailed.  The list call should be roughly\u001b[0m\u001b[0;34m\u001b[0m\u001b[0;34m\u001b[0m\u001b[0;34m\u001b[0m\u001b[0m\n\u001b[1;32m    198\u001b[0m         \u001b[0;31m# equivalent to the PySequence_Fast that ''.join() would do.\u001b[0m\u001b[0;34m\u001b[0m\u001b[0;34m\u001b[0m\u001b[0;34m\u001b[0m\u001b[0m\n\u001b[0;32m--> 199\u001b[0;31m         \u001b[0mchunks\u001b[0m \u001b[0;34m=\u001b[0m \u001b[0mself\u001b[0m\u001b[0;34m.\u001b[0m\u001b[0miterencode\u001b[0m\u001b[0;34m(\u001b[0m\u001b[0mo\u001b[0m\u001b[0;34m,\u001b[0m \u001b[0m_one_shot\u001b[0m\u001b[0;34m=\u001b[0m\u001b[0;32mTrue\u001b[0m\u001b[0;34m)\u001b[0m\u001b[0;34m\u001b[0m\u001b[0;34m\u001b[0m\u001b[0m\n\u001b[0m\u001b[1;32m    200\u001b[0m         \u001b[0;32mif\u001b[0m \u001b[0;32mnot\u001b[0m \u001b[0misinstance\u001b[0m\u001b[0;34m(\u001b[0m\u001b[0mchunks\u001b[0m\u001b[0;34m,\u001b[0m \u001b[0;34m(\u001b[0m\u001b[0mlist\u001b[0m\u001b[0;34m,\u001b[0m \u001b[0mtuple\u001b[0m\u001b[0;34m)\u001b[0m\u001b[0;34m)\u001b[0m\u001b[0;34m:\u001b[0m\u001b[0;34m\u001b[0m\u001b[0;34m\u001b[0m\u001b[0m\n\u001b[1;32m    201\u001b[0m             \u001b[0mchunks\u001b[0m \u001b[0;34m=\u001b[0m \u001b[0mlist\u001b[0m\u001b[0;34m(\u001b[0m\u001b[0mchunks\u001b[0m\u001b[0;34m)\u001b[0m\u001b[0;34m\u001b[0m\u001b[0;34m\u001b[0m\u001b[0m\n",
            "\u001b[0;32m/usr/lib/python3.6/json/encoder.py\u001b[0m in \u001b[0;36miterencode\u001b[0;34m(self, o, _one_shot)\u001b[0m\n\u001b[1;32m    255\u001b[0m                 \u001b[0mself\u001b[0m\u001b[0;34m.\u001b[0m\u001b[0mkey_separator\u001b[0m\u001b[0;34m,\u001b[0m \u001b[0mself\u001b[0m\u001b[0;34m.\u001b[0m\u001b[0mitem_separator\u001b[0m\u001b[0;34m,\u001b[0m \u001b[0mself\u001b[0m\u001b[0;34m.\u001b[0m\u001b[0msort_keys\u001b[0m\u001b[0;34m,\u001b[0m\u001b[0;34m\u001b[0m\u001b[0;34m\u001b[0m\u001b[0m\n\u001b[1;32m    256\u001b[0m                 self.skipkeys, _one_shot)\n\u001b[0;32m--> 257\u001b[0;31m         \u001b[0;32mreturn\u001b[0m \u001b[0m_iterencode\u001b[0m\u001b[0;34m(\u001b[0m\u001b[0mo\u001b[0m\u001b[0;34m,\u001b[0m \u001b[0;36m0\u001b[0m\u001b[0;34m)\u001b[0m\u001b[0;34m\u001b[0m\u001b[0;34m\u001b[0m\u001b[0m\n\u001b[0m\u001b[1;32m    258\u001b[0m \u001b[0;34m\u001b[0m\u001b[0m\n\u001b[1;32m    259\u001b[0m def _make_iterencode(markers, _default, _encoder, _indent, _floatstr,\n",
            "\u001b[0;32m/usr/lib/python3.6/json/encoder.py\u001b[0m in \u001b[0;36mdefault\u001b[0;34m(self, o)\u001b[0m\n\u001b[1;32m    178\u001b[0m         \"\"\"\n\u001b[1;32m    179\u001b[0m         raise TypeError(\"Object of type '%s' is not JSON serializable\" %\n\u001b[0;32m--> 180\u001b[0;31m                         o.__class__.__name__)\n\u001b[0m\u001b[1;32m    181\u001b[0m \u001b[0;34m\u001b[0m\u001b[0m\n\u001b[1;32m    182\u001b[0m     \u001b[0;32mdef\u001b[0m \u001b[0mencode\u001b[0m\u001b[0;34m(\u001b[0m\u001b[0mself\u001b[0m\u001b[0;34m,\u001b[0m \u001b[0mo\u001b[0m\u001b[0;34m)\u001b[0m\u001b[0;34m:\u001b[0m\u001b[0;34m\u001b[0m\u001b[0;34m\u001b[0m\u001b[0m\n",
            "\u001b[0;31mTypeError\u001b[0m: Object of type 'set' is not JSON serializable"
          ]
        }
      ]
    },
    {
      "metadata": {
        "id": "H-RoyyPdcTdl",
        "colab_type": "code",
        "outputId": "03aea762-492e-4aa9-c22b-acecf85c8d96",
        "colab": {
          "base_uri": "https://localhost:8080/",
          "height": 34
        }
      },
      "cell_type": "code",
      "source": [
        "!du -h model.h5"
      ],
      "execution_count": 0,
      "outputs": [
        {
          "output_type": "stream",
          "text": [
            "620K\tmodel.h5\n"
          ],
          "name": "stdout"
        }
      ]
    },
    {
      "metadata": {
        "id": "8NfUvp33HvAp",
        "colab_type": "code",
        "outputId": "a0f535b2-48a1-447b-d7c2-1e4be5c5a7b0",
        "colab": {
          "base_uri": "https://localhost:8080/",
          "height": 52
        }
      },
      "cell_type": "code",
      "source": [
        "!ls"
      ],
      "execution_count": 0,
      "outputs": [
        {
          "output_type": "stream",
          "text": [
            "adc.json   c2id.json  model.h5\tsample_data    Xstress.npy\n",
            "back.json  drive      rustress\tstressdb.json  Ystress.npy\n"
          ],
          "name": "stdout"
        }
      ]
    },
    {
      "metadata": {
        "id": "xiQE6IfBNWGY",
        "colab_type": "code",
        "outputId": "97902ae3-f298-477d-e322-debb03e8f2b5",
        "colab": {
          "base_uri": "https://localhost:8080/",
          "height": 34
        }
      },
      "cell_type": "code",
      "source": [
        "len(chars)"
      ],
      "execution_count": 0,
      "outputs": [
        {
          "output_type": "execute_result",
          "data": {
            "text/plain": [
              "57"
            ]
          },
          "metadata": {
            "tags": []
          },
          "execution_count": 61
        }
      ]
    },
    {
      "metadata": {
        "id": "mLs06rr2cTdp",
        "colab_type": "code",
        "outputId": "4b17a57b-cc19-4d1e-eadd-f5578882120d",
        "colab": {
          "base_uri": "https://localhost:8080/",
          "height": 278
        }
      },
      "cell_type": "code",
      "source": [
        "!apt-get install -y -qq software-properties-common python-software-properties module-init-tools\n",
        "!add-apt-repository -y ppa:alessandro-strada/ppa 2>&1 > /dev/null\n",
        "!apt-get update -qq 2>&1 > /dev/null\n",
        "!apt-get -y install -qq google-drive-ocamlfuse fuse"
      ],
      "execution_count": 0,
      "outputs": [
        {
          "output_type": "stream",
          "text": [
            "E: Package 'python-software-properties' has no installation candidate\n",
            "Selecting previously unselected package libfuse2:amd64.\n",
            "(Reading database ... 22298 files and directories currently installed.)\n",
            "Preparing to unpack .../libfuse2_2.9.7-1ubuntu1_amd64.deb ...\n",
            "Unpacking libfuse2:amd64 (2.9.7-1ubuntu1) ...\n",
            "Selecting previously unselected package fuse.\n",
            "Preparing to unpack .../fuse_2.9.7-1ubuntu1_amd64.deb ...\n",
            "Unpacking fuse (2.9.7-1ubuntu1) ...\n",
            "Selecting previously unselected package google-drive-ocamlfuse.\n",
            "Preparing to unpack .../google-drive-ocamlfuse_0.7.1-0ubuntu2~ubuntu18.04.1_amd64.deb ...\n",
            "Unpacking google-drive-ocamlfuse (0.7.1-0ubuntu2~ubuntu18.04.1) ...\n",
            "Setting up libfuse2:amd64 (2.9.7-1ubuntu1) ...\n",
            "Processing triggers for libc-bin (2.27-3ubuntu1) ...\n",
            "Setting up fuse (2.9.7-1ubuntu1) ...\n",
            "Setting up google-drive-ocamlfuse (0.7.1-0ubuntu2~ubuntu18.04.1) ...\n"
          ],
          "name": "stdout"
        }
      ]
    },
    {
      "metadata": {
        "id": "b3WVF23tHTuN",
        "colab_type": "code",
        "colab": {}
      },
      "cell_type": "code",
      "source": [
        "from google.colab import auth\n",
        "auth.authenticate_user()"
      ],
      "execution_count": 0,
      "outputs": []
    },
    {
      "metadata": {
        "id": "9PAZ4id0HUoM",
        "colab_type": "code",
        "outputId": "287798ab-4b7c-4d0c-8b71-4e0653f73d8f",
        "colab": {
          "base_uri": "https://localhost:8080/",
          "height": 106
        }
      },
      "cell_type": "code",
      "source": [
        "from oauth2client.client import GoogleCredentials\n",
        "creds = GoogleCredentials.get_application_default()\n",
        "import getpass\n",
        "!google-drive-ocamlfuse -headless -id={creds.client_id} -secret={creds.client_secret} < /dev/null 2>&1 | grep URL\n",
        "vcode = getpass.getpass()\n",
        "!echo {vcode} | google-drive-ocamlfuse -headless -id={creds.client_id} -secret={creds.client_secret}"
      ],
      "execution_count": 0,
      "outputs": [
        {
          "output_type": "stream",
          "text": [
            "Please, open the following URL in a web browser: https://accounts.google.com/o/oauth2/auth?client_id=32555940559.apps.googleusercontent.com&redirect_uri=urn%3Aietf%3Awg%3Aoauth%3A2.0%3Aoob&scope=https%3A%2F%2Fwww.googleapis.com%2Fauth%2Fdrive&response_type=code&access_type=offline&approval_prompt=force\n",
            "··········\n",
            "Please, open the following URL in a web browser: https://accounts.google.com/o/oauth2/auth?client_id=32555940559.apps.googleusercontent.com&redirect_uri=urn%3Aietf%3Awg%3Aoauth%3A2.0%3Aoob&scope=https%3A%2F%2Fwww.googleapis.com%2Fauth%2Fdrive&response_type=code&access_type=offline&approval_prompt=force\n",
            "Please enter the verification code: Access token retrieved correctly.\n"
          ],
          "name": "stdout"
        }
      ]
    },
    {
      "metadata": {
        "id": "eO7KgURjHXES",
        "colab_type": "code",
        "colab": {}
      },
      "cell_type": "code",
      "source": [
        "!mkdir -p drive\n",
        "!google-drive-ocamlfuse drive"
      ],
      "execution_count": 0,
      "outputs": []
    },
    {
      "metadata": {
        "id": "lGclAZk7HZhM",
        "colab_type": "code",
        "outputId": "83f9ef06-637c-4aef-b042-ff384fa8cf54",
        "colab": {
          "base_uri": "https://localhost:8080/",
          "height": 34
        }
      },
      "cell_type": "code",
      "source": [
        "!mkdir drive/rustress\n",
        "!cp *.npy drive/rustress/.\n",
        "!cp model.h5 drive/rustress/model.h5"
      ],
      "execution_count": 0,
      "outputs": [
        {
          "output_type": "stream",
          "text": [
            "mkdir: cannot create directory ‘drive/rustress’: File exists\n"
          ],
          "name": "stdout"
        }
      ]
    },
    {
      "metadata": {
        "id": "abjKiBjNI0lz",
        "colab_type": "code",
        "colab": {}
      },
      "cell_type": "code",
      "source": [
        "!cp *.json drive/rustress/."
      ],
      "execution_count": 0,
      "outputs": []
    }
  ]
}