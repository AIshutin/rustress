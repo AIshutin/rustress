{
 "cells": [
  {
   "cell_type": "markdown",
   "metadata": {},
   "source": [
    "# Rustress"
   ]
  },
  {
   "cell_type": "markdown",
   "metadata": {},
   "source": [
    "Model training"
   ]
  },
  {
   "cell_type": "code",
   "execution_count": 1,
   "metadata": {},
   "outputs": [
    {
     "name": "stdout",
     "output_type": "stream",
     "text": [
      "Archive:  stressdb.zip\n",
      "  inflating: stressdb.json           \n",
      "README.md\t  ruwiktionary.py  stressdb.zip\n",
      "requirements.txt  stressdb.json    Untitled.ipynb\n"
     ]
    }
   ],
   "source": [
    "!unzip stressdb.zip\n",
    "!ls"
   ]
  },
  {
   "cell_type": "code",
   "execution_count": 2,
   "metadata": {},
   "outputs": [
    {
     "name": "stdout",
     "output_type": "stream",
     "text": [
      "111M\tstressdb.json\r\n"
     ]
    }
   ],
   "source": [
    "!du -h stressdb.json"
   ]
  },
  {
   "cell_type": "code",
   "execution_count": 1,
   "metadata": {},
   "outputs": [],
   "source": [
    "import pymorphy2 as py\n",
    "morph = py.MorphAnalyzer()\n",
    "stress_char = \"ре́с\"[2]"
   ]
  },
  {
   "cell_type": "code",
   "execution_count": 2,
   "metadata": {},
   "outputs": [],
   "source": [
    "import json\n",
    "stressdb = json.loads(open('stressdb.json').read())"
   ]
  },
  {
   "cell_type": "code",
   "execution_count": 3,
   "metadata": {},
   "outputs": [
    {
     "name": "stdout",
     "output_type": "stream",
     "text": [
      "[('солнышек', 'со́лнышек'), ('солнышка', 'со́лнышка'), ('солнышках', 'со́лнышках'), ('солнышки', 'со́лнышки'), ('солнышками', 'со́лнышками'), ('солнышку', 'со́лнышку'), ('солнышкам', 'со́лнышкам'), ('солнышке', 'со́лнышке'), ('солнышком', 'со́лнышком'), ('солнышко', 'со́лнышко')]\n"
     ]
    }
   ],
   "source": [
    "print(list(stressdb.items())[:10])"
   ]
  },
  {
   "cell_type": "code",
   "execution_count": 47,
   "metadata": {},
   "outputs": [
    {
     "name": "stdout",
     "output_type": "stream",
     "text": [
      "26\n",
      "{'ш', 'А', 'в', 'й', 'п', 'ь', 'С', 'a', 'н', 'з', 'ч', 'х', 'Я', 'К', 'ъ', 'ѝ', 'Б', 'П', 'б', 'ф', 'р', 'Е', 'Э', 'И', 'г', 'З', 'м', 'я', 'э', 'Г', 'Р', 'и', 'ы', 'д', 'Ф', 'ї', 'с', 'ж', 'о', 'л', 'і', 'Н', 'М', 'ю', 'e', 'а', 'Д', 'В', 'т', 'щ', 'у', 'ц', 'c', 'ё', 'ѐ', 'к', 'е'}\n"
     ]
    }
   ],
   "source": [
    "MAX_VOW = 0\n",
    "MAX_LENGTH = 0\n",
    "vow = 'уеыаоэяиюё'\n",
    "chars = set()\n",
    "for el in stressdb:\n",
    "    chars.update(el)\n",
    "    curr = 0\n",
    "    for c in el:\n",
    "        curr += c in vow\n",
    "    MAX_VOW = max(curr, MAX_VOW)\n",
    "    MAX_LENGTH = max(MAX_LENGTH, len(el))\n",
    "print(MAX_LENGTH)\n",
    "print(chars)"
   ]
  },
  {
   "cell_type": "code",
   "execution_count": 48,
   "metadata": {},
   "outputs": [],
   "source": [
    "good = '@ёйцукенгшщзхфывапролджэячсмитьъбю'\n",
    "c2id = dict()\n",
    "id2c = dict()\n",
    "for i in range(len(good)):\n",
    "    id2c[i] = good[i]\n",
    "    c2id[good[i]] = i"
   ]
  },
  {
   "cell_type": "code",
   "execution_count": 6,
   "metadata": {},
   "outputs": [],
   "source": [
    "import numpy as np\n",
    "#import pandas as pd"
   ]
  },
  {
   "cell_type": "code",
   "execution_count": 84,
   "metadata": {},
   "outputs": [],
   "source": [
    "feat = ['aspect', 'case', 'POS', 'mood', 'gender', 'number', 'person', 'tense', 'voice', 'transitivity']\n",
    "\n",
    "def prepare_data(key, val):\n",
    "    key = key.replace('ѝ', 'й')[::-1]\n",
    "    val = val.replace('ѝ', 'й')[::-1]\n",
    "    word = morph.parse(key)[0]\n",
    "    row = [0] * (MAX_LENGTH + len(feat))\n",
    "    for i in range(len(feat)):\n",
    "        #print('word.tag.' + feat[i])\n",
    "        #print(word.tag.aspect)\n",
    "        try:\n",
    "            row[i] = eval('word.tag.' + feat[i])\n",
    "        except:\n",
    "            pass\n",
    "    for i in range(len(key)):\n",
    "        row[len(feat) + i] = c2id[key[i]] / len(c2id)\n",
    "    ind = 0\n",
    "    for i in range(len(val)):\n",
    "        if val[i] == stress_char:\n",
    "            break\n",
    "        if val[i] in vow:\n",
    "            ind += 1\n",
    "    res = np.zeros(MAX_VOW)\n",
    "    res[ind] = 1\n",
    "    return (row, res)    "
   ]
  },
  {
   "cell_type": "code",
   "execution_count": 85,
   "metadata": {},
   "outputs": [],
   "source": [
    "import random as rd\n",
    "data = list(stressdb.items())\n",
    "rd.shuffle(data)\n",
    "X = []\n",
    "Y = []\n",
    "cnt1 = 0\n",
    "cnt2 = 0\n",
    "cnt3 = 0\n",
    "s1 = []\n",
    "s2 = []\n",
    "for key, val in data[:]:\n",
    "    key = key.lower()\n",
    "    val = val.lower()\n",
    "    if 'і' in key:\n",
    "        cnt1 += 1\n",
    "        s1.append([key, val])\n",
    "        continue\n",
    "    bad = {'ѐ', 'ѐ', 'a', 'c', 'ї'}\n",
    "    ok = True\n",
    "    for el in bad:\n",
    "        if el in val + key:\n",
    "            ok = False\n",
    "            s2.append([el, val, key])\n",
    "            cnt2 += 1\n",
    "            break\n",
    "    for el in val + key:\n",
    "        if ord(el) < 255:\n",
    "            ok = False\n",
    "    if not ok:\n",
    "        continue\n",
    "    if key == val:\n",
    "        cnt3 += 1\n",
    "        continue\n",
    "    try:\n",
    "        (x, y) = prepare_data(key, val)\n",
    "        X.append(x)\n",
    "        Y.append(y)\n",
    "    except Exception as exp:\n",
    "        print(exp.args, exp)\n",
    "        print(key, val)\n",
    "        print(len(key), len(val))\n",
    "        for el in bad:\n",
    "            print(el, el in val + key)\n",
    "        break"
   ]
  },
  {
   "cell_type": "code",
   "execution_count": 86,
   "metadata": {},
   "outputs": [
    {
     "data": {
      "text/plain": [
       "([None,\n",
       "  'gent',\n",
       "  'NOUN',\n",
       "  None,\n",
       "  'femn',\n",
       "  'plur',\n",
       "  None,\n",
       "  None,\n",
       "  None,\n",
       "  None,\n",
       "  0.7058823529411765,\n",
       "  0.7647058823529411,\n",
       "  0.8823529411764706,\n",
       "  0.8529411764705882,\n",
       "  0.47058823529411764,\n",
       "  0.4411764705882353,\n",
       "  0.4117647058823529,\n",
       "  0.4411764705882353,\n",
       "  0.5588235294117647,\n",
       "  0.20588235294117646,\n",
       "  0.5588235294117647,\n",
       "  0.5,\n",
       "  0.7941176470588235,\n",
       "  0.5588235294117647,\n",
       "  0.14705882352941177,\n",
       "  0.4411764705882353,\n",
       "  0,\n",
       "  0,\n",
       "  0,\n",
       "  0,\n",
       "  0,\n",
       "  0,\n",
       "  0,\n",
       "  0,\n",
       "  0,\n",
       "  0],\n",
       " array([0., 0., 0., 1., 0., 0., 0., 0., 0., 0., 0., 0.]))"
      ]
     },
     "execution_count": 86,
     "metadata": {},
     "output_type": "execute_result"
    }
   ],
   "source": [
    "prepare_data('вкомпоновываться',  'вкомпоно́вываться')"
   ]
  },
  {
   "cell_type": "code",
   "execution_count": 87,
   "metadata": {
    "scrolled": true
   },
   "outputs": [
    {
     "name": "stdout",
     "output_type": "stream",
     "text": [
      "847706\n"
     ]
    }
   ],
   "source": [
    "print(len(X))"
   ]
  },
  {
   "cell_type": "code",
   "execution_count": 88,
   "metadata": {},
   "outputs": [
    {
     "name": "stdout",
     "output_type": "stream",
     "text": [
      "18 2635 0\n"
     ]
    }
   ],
   "source": [
    "print(cnt1, cnt2, cnt3)"
   ]
  },
  {
   "cell_type": "code",
   "execution_count": 89,
   "metadata": {},
   "outputs": [],
   "source": [
    "X_cp = X"
   ]
  },
  {
   "cell_type": "code",
   "execution_count": 101,
   "metadata": {},
   "outputs": [],
   "source": [
    "cnts = [dict() for i in range(len(feat))]\n",
    "back = [dict() for i in range(len(feat))]\n",
    "for col in range(len(feat)):\n",
    "    for i in range(len(X)):\n",
    "        sz = len(cnts[col])\n",
    "        if X[i][col] not in cnts[col]:\n",
    "            cnts[col][X[i][col]] = sz + 1\n",
    "            back[col][sz + 1] = X[i][col]\n",
    "        X[i][col] = cnts[col][X[i][col]]"
   ]
  },
  {
   "cell_type": "code",
   "execution_count": 102,
   "metadata": {},
   "outputs": [],
   "source": [
    "for col in range(len(feat)):\n",
    "    for i in range(len(X)):\n",
    "        sz = len(cnts[col])\n",
    "        X[i][col] /= sz"
   ]
  },
  {
   "cell_type": "code",
   "execution_count": 103,
   "metadata": {},
   "outputs": [
    {
     "name": "stdout",
     "output_type": "stream",
     "text": [
      "[[0.33333333 0.1        0.07142857 0.33333333 0.25       0.33333333\n",
      "  0.25       0.25       0.33333333 0.33333333 0.82352941 0.47058824\n",
      "  0.52941176 0.11764706 0.79411765 0.47058824 0.76470588 0.\n",
      "  0.         0.         0.         0.         0.         0.\n",
      "  0.         0.         0.         0.         0.         0.\n",
      "  0.         0.         0.         0.         0.         0.        ]\n",
      " [0.33333333 0.2        0.07142857 0.33333333 0.5        0.66666667\n",
      "  0.25       0.25       0.33333333 0.33333333 0.05882353 0.17647059\n",
      "  0.82352941 0.08823529 0.47058824 0.32352941 0.82352941 0.44117647\n",
      "  0.82352941 0.85294118 0.14705882 0.17647059 0.58823529 0.58823529\n",
      "  0.55882353 0.14705882 0.         0.         0.         0.\n",
      "  0.         0.         0.         0.         0.         0.        ]\n",
      " [0.33333333 0.1        0.07142857 0.33333333 0.5        0.33333333\n",
      "  0.25       0.25       0.33333333 0.33333333 0.17647059 0.41176471\n",
      "  0.20588235 0.88235294 0.58823529 0.17647059 0.85294118 0.82352941\n",
      "  0.85294118 0.76470588 0.17647059 0.44117647 0.55882353 0.5\n",
      "  0.55882353 0.         0.         0.         0.         0.\n",
      "  0.         0.         0.         0.         0.         0.        ]\n",
      " [0.33333333 0.1        0.07142857 0.33333333 0.25       0.33333333\n",
      "  0.25       0.25       0.33333333 0.33333333 0.82352941 0.58823529\n",
      "  0.47058824 0.64705882 0.55882353 0.52941176 0.55882353 0.61764706\n",
      "  0.55882353 0.5        0.         0.         0.         0.\n",
      "  0.         0.         0.         0.         0.         0.\n",
      "  0.         0.         0.         0.         0.         0.        ]\n",
      " [0.66666667 0.3        0.14285714 0.33333333 0.75       1.\n",
      "  0.25       0.5        0.33333333 0.66666667 0.70588235 0.76470588\n",
      "  0.88235294 0.85294118 0.47058824 0.44117647 0.41176471 0.44117647\n",
      "  0.55882353 0.76470588 0.82352941 0.52941176 0.41176471 0.44117647\n",
      "  0.         0.         0.         0.         0.         0.\n",
      "  0.         0.         0.         0.         0.         0.        ]\n",
      " [0.33333333 0.3        0.21428571 0.33333333 1.         0.33333333\n",
      "  0.25       0.25       0.33333333 0.33333333 0.82352941 0.79411765\n",
      "  0.70588235 0.82352941 0.20588235 0.47058824 0.44117647 0.17647059\n",
      "  0.94117647 0.47058824 0.58823529 0.76470588 0.55882353 0.\n",
      "  0.         0.         0.         0.         0.         0.\n",
      "  0.         0.         0.         0.         0.         0.        ]\n",
      " [0.33333333 0.3        0.28571429 0.33333333 0.75       1.\n",
      "  0.25       0.25       0.33333333 0.33333333 0.47058824 0.20588235\n",
      "  0.88235294 0.58823529 0.17647059 0.85294118 0.82352941 0.32352941\n",
      "  0.47058824 0.52941176 0.47058824 0.32352941 0.         0.\n",
      "  0.         0.         0.         0.         0.         0.\n",
      "  0.         0.         0.         0.         0.         0.        ]\n",
      " [0.66666667 0.3        0.35714286 0.66666667 0.75       0.66666667\n",
      "  0.5        0.75       0.33333333 0.66666667 0.97058824 0.17647059\n",
      "  0.82352941 0.08823529 0.47058824 0.32352941 0.82352941 0.52941176\n",
      "  0.47058824 0.85294118 0.82352941 0.58823529 0.82352941 0.79411765\n",
      "  0.         0.         0.         0.         0.         0.\n",
      "  0.         0.         0.         0.         0.         0.        ]\n",
      " [0.33333333 0.1        0.07142857 0.33333333 1.         0.33333333\n",
      "  0.25       0.25       0.33333333 0.33333333 0.41176471 0.08823529\n",
      "  0.82352941 0.73529412 0.61764706 0.47058824 0.23529412 0.85294118\n",
      "  0.55882353 0.         0.         0.         0.         0.\n",
      "  0.         0.         0.         0.         0.         0.\n",
      "  0.         0.         0.         0.         0.         0.        ]\n",
      " [0.33333333 0.3        0.21428571 0.33333333 1.         0.33333333\n",
      "  0.25       0.25       0.33333333 0.33333333 0.85294118 0.17647059\n",
      "  0.47058824 0.44117647 0.41176471 0.44117647 0.55882353 0.52941176\n",
      "  0.17647059 0.32352941 0.17647059 0.52941176 0.38235294 0.85294118\n",
      "  0.55882353 0.         0.         0.         0.         0.\n",
      "  0.         0.         0.         0.         0.         0.        ]]\n",
      "[[0. 1. 0. 0. 0. 0. 0. 0. 0. 0. 0. 0.]\n",
      " [0. 0. 1. 0. 0. 0. 0. 0. 0. 0. 0. 0.]\n",
      " [0. 0. 0. 1. 0. 0. 0. 0. 0. 0. 0. 0.]\n",
      " [0. 1. 0. 0. 0. 0. 0. 0. 0. 0. 0. 0.]\n",
      " [0. 0. 0. 1. 0. 0. 0. 0. 0. 0. 0. 0.]\n",
      " [0. 0. 0. 1. 0. 0. 0. 0. 0. 0. 0. 0.]\n",
      " [0. 0. 1. 0. 0. 0. 0. 0. 0. 0. 0. 0.]\n",
      " [0. 0. 0. 1. 0. 0. 0. 0. 0. 0. 0. 0.]\n",
      " [0. 0. 1. 0. 0. 0. 0. 0. 0. 0. 0. 0.]\n",
      " [0. 0. 0. 1. 0. 0. 0. 0. 0. 0. 0. 0.]]\n"
     ]
    }
   ],
   "source": [
    "print(X[:10])\n",
    "print(Y[:10])"
   ]
  },
  {
   "cell_type": "code",
   "execution_count": 104,
   "metadata": {},
   "outputs": [
    {
     "data": {
      "text/plain": [
       "36"
      ]
     },
     "execution_count": 104,
     "metadata": {},
     "output_type": "execute_result"
    }
   ],
   "source": [
    "len(X[0])"
   ]
  },
  {
   "cell_type": "code",
   "execution_count": 105,
   "metadata": {},
   "outputs": [],
   "source": [
    "from sklearn.model_selection import train_test_split\n",
    "X = np.array(X)\n",
    "Y = np.array(Y)\n",
    "X_train, X_test, Y_train, Y_test = train_test_split(X, Y, test_size=0.3)"
   ]
  },
  {
   "cell_type": "code",
   "execution_count": 106,
   "metadata": {},
   "outputs": [
    {
     "data": {
      "text/plain": [
       "(593394, 36)"
      ]
     },
     "execution_count": 106,
     "metadata": {},
     "output_type": "execute_result"
    }
   ],
   "source": [
    "X_train.shape"
   ]
  },
  {
   "cell_type": "code",
   "execution_count": 107,
   "metadata": {},
   "outputs": [
    {
     "data": {
      "text/plain": [
       "(593394, 12)"
      ]
     },
     "execution_count": 107,
     "metadata": {},
     "output_type": "execute_result"
    }
   ],
   "source": [
    "Y_train.shape"
   ]
  },
  {
   "cell_type": "code",
   "execution_count": 108,
   "metadata": {},
   "outputs": [],
   "source": [
    "ans = [0] "
   ]
  },
  {
   "cell_type": "code",
   "execution_count": 109,
   "metadata": {},
   "outputs": [],
   "source": [
    "import keras"
   ]
  },
  {
   "cell_type": "code",
   "execution_count": 110,
   "metadata": {},
   "outputs": [],
   "source": [
    "from keras.models import Sequential\n",
    "from keras.layers import Dense\n",
    "\n",
    "model = Sequential()\n",
    "model.add(Dense(32, input_dim=36, activation='relu'))\n",
    "model.add(Dense(16, activation='relu'))\n",
    "model.add(Dense(8, activation='sigmoid'))\n",
    "model.add(Dense(MAX_VOW, activation='softmax'))\n",
    "\n",
    "model.compile(loss='categorical_crossentropy', optimizer='adam', metrics=['accuracy'])"
   ]
  },
  {
   "cell_type": "code",
   "execution_count": 111,
   "metadata": {},
   "outputs": [
    {
     "name": "stdout",
     "output_type": "stream",
     "text": [
      "Epoch 1/30\n",
      "593394/593394 [==============================] - 11s 19us/step - loss: 1.2180 - acc: 0.4502\n",
      "Epoch 2/30\n",
      "593394/593394 [==============================] - 12s 20us/step - loss: 1.1575 - acc: 0.4645\n",
      "Epoch 3/30\n",
      "593394/593394 [==============================] - 11s 19us/step - loss: 1.1182 - acc: 0.4934\n",
      "Epoch 4/30\n",
      "593394/593394 [==============================] - 11s 19us/step - loss: 1.0773 - acc: 0.5243\n",
      "Epoch 5/30\n",
      "593394/593394 [==============================] - 11s 19us/step - loss: 1.0506 - acc: 0.5434\n",
      "Epoch 6/30\n",
      "593394/593394 [==============================] - 11s 19us/step - loss: 1.0292 - acc: 0.5576\n",
      "Epoch 7/30\n",
      "593394/593394 [==============================] - 11s 19us/step - loss: 1.0144 - acc: 0.5659\n",
      "Epoch 8/30\n",
      "593394/593394 [==============================] - 11s 19us/step - loss: 1.0015 - acc: 0.5723\n",
      "Epoch 9/30\n",
      "593394/593394 [==============================] - 11s 19us/step - loss: 0.9881 - acc: 0.5798\n",
      "Epoch 10/30\n",
      "593394/593394 [==============================] - 11s 19us/step - loss: 0.9725 - acc: 0.5890\n",
      "Epoch 11/30\n",
      "593394/593394 [==============================] - 11s 18us/step - loss: 0.9582 - acc: 0.5964\n",
      "Epoch 12/30\n",
      "593394/593394 [==============================] - 11s 19us/step - loss: 0.9479 - acc: 0.6015\n",
      "Epoch 13/30\n",
      "593394/593394 [==============================] - 11s 19us/step - loss: 0.9397 - acc: 0.6050\n",
      "Epoch 14/30\n",
      "593394/593394 [==============================] - 12s 20us/step - loss: 0.9334 - acc: 0.6078\n",
      "Epoch 15/30\n",
      "593394/593394 [==============================] - 13s 21us/step - loss: 0.9280 - acc: 0.6108\n",
      "Epoch 16/30\n",
      "593394/593394 [==============================] - 14s 24us/step - loss: 0.9237 - acc: 0.6134\n",
      "Epoch 17/30\n",
      "593394/593394 [==============================] - 12s 19us/step - loss: 0.9194 - acc: 0.6161\n",
      "Epoch 18/30\n",
      "593394/593394 [==============================] - 12s 20us/step - loss: 0.9157 - acc: 0.6182\n",
      "Epoch 19/30\n",
      "593394/593394 [==============================] - 11s 19us/step - loss: 0.9123 - acc: 0.6205\n",
      "Epoch 20/30\n",
      "593394/593394 [==============================] - 11s 19us/step - loss: 0.9095 - acc: 0.6223\n",
      "Epoch 21/30\n",
      "593394/593394 [==============================] - 11s 19us/step - loss: 0.9062 - acc: 0.6239\n",
      "Epoch 22/30\n",
      "593394/593394 [==============================] - 12s 20us/step - loss: 0.9037 - acc: 0.6256\n",
      "Epoch 23/30\n",
      "593394/593394 [==============================] - 11s 19us/step - loss: 0.8999 - acc: 0.6276\n",
      "Epoch 24/30\n",
      "233760/593394 [==========>...................] - ETA: 7s - loss: 0.9003 - acc: 0.6268"
     ]
    },
    {
     "ename": "KeyboardInterrupt",
     "evalue": "",
     "output_type": "error",
     "traceback": [
      "\u001b[0;31m---------------------------------------------------------------------------\u001b[0m",
      "\u001b[0;31mKeyboardInterrupt\u001b[0m                         Traceback (most recent call last)",
      "\u001b[0;32m<ipython-input-111-289517a1af55>\u001b[0m in \u001b[0;36m<module>\u001b[0;34m\u001b[0m\n\u001b[0;32m----> 1\u001b[0;31m \u001b[0mmodel\u001b[0m\u001b[0;34m.\u001b[0m\u001b[0mfit\u001b[0m\u001b[0;34m(\u001b[0m\u001b[0mX_train\u001b[0m\u001b[0;34m,\u001b[0m \u001b[0mY_train\u001b[0m\u001b[0;34m,\u001b[0m \u001b[0mepochs\u001b[0m\u001b[0;34m=\u001b[0m\u001b[0;36m30\u001b[0m\u001b[0;34m,\u001b[0m \u001b[0mbatch_size\u001b[0m\u001b[0;34m=\u001b[0m\u001b[0;36m60\u001b[0m\u001b[0;34m)\u001b[0m\u001b[0;34m\u001b[0m\u001b[0m\n\u001b[0m",
      "\u001b[0;32m/usr/local/lib/python3.6/dist-packages/keras/engine/training.py\u001b[0m in \u001b[0;36mfit\u001b[0;34m(self, x, y, batch_size, epochs, verbose, callbacks, validation_split, validation_data, shuffle, class_weight, sample_weight, initial_epoch, steps_per_epoch, validation_steps, **kwargs)\u001b[0m\n\u001b[1;32m   1037\u001b[0m                                         \u001b[0minitial_epoch\u001b[0m\u001b[0;34m=\u001b[0m\u001b[0minitial_epoch\u001b[0m\u001b[0;34m,\u001b[0m\u001b[0;34m\u001b[0m\u001b[0m\n\u001b[1;32m   1038\u001b[0m                                         \u001b[0msteps_per_epoch\u001b[0m\u001b[0;34m=\u001b[0m\u001b[0msteps_per_epoch\u001b[0m\u001b[0;34m,\u001b[0m\u001b[0;34m\u001b[0m\u001b[0m\n\u001b[0;32m-> 1039\u001b[0;31m                                         validation_steps=validation_steps)\n\u001b[0m\u001b[1;32m   1040\u001b[0m \u001b[0;34m\u001b[0m\u001b[0m\n\u001b[1;32m   1041\u001b[0m     def evaluate(self, x=None, y=None,\n",
      "\u001b[0;32m/usr/local/lib/python3.6/dist-packages/keras/engine/training_arrays.py\u001b[0m in \u001b[0;36mfit_loop\u001b[0;34m(model, f, ins, out_labels, batch_size, epochs, verbose, callbacks, val_f, val_ins, shuffle, callback_metrics, initial_epoch, steps_per_epoch, validation_steps)\u001b[0m\n\u001b[1;32m    197\u001b[0m                     \u001b[0mins_batch\u001b[0m\u001b[0;34m[\u001b[0m\u001b[0mi\u001b[0m\u001b[0;34m]\u001b[0m \u001b[0;34m=\u001b[0m \u001b[0mins_batch\u001b[0m\u001b[0;34m[\u001b[0m\u001b[0mi\u001b[0m\u001b[0;34m]\u001b[0m\u001b[0;34m.\u001b[0m\u001b[0mtoarray\u001b[0m\u001b[0;34m(\u001b[0m\u001b[0;34m)\u001b[0m\u001b[0;34m\u001b[0m\u001b[0m\n\u001b[1;32m    198\u001b[0m \u001b[0;34m\u001b[0m\u001b[0m\n\u001b[0;32m--> 199\u001b[0;31m                 \u001b[0mouts\u001b[0m \u001b[0;34m=\u001b[0m \u001b[0mf\u001b[0m\u001b[0;34m(\u001b[0m\u001b[0mins_batch\u001b[0m\u001b[0;34m)\u001b[0m\u001b[0;34m\u001b[0m\u001b[0m\n\u001b[0m\u001b[1;32m    200\u001b[0m                 \u001b[0mouts\u001b[0m \u001b[0;34m=\u001b[0m \u001b[0mto_list\u001b[0m\u001b[0;34m(\u001b[0m\u001b[0mouts\u001b[0m\u001b[0;34m)\u001b[0m\u001b[0;34m\u001b[0m\u001b[0m\n\u001b[1;32m    201\u001b[0m                 \u001b[0;32mfor\u001b[0m \u001b[0ml\u001b[0m\u001b[0;34m,\u001b[0m \u001b[0mo\u001b[0m \u001b[0;32min\u001b[0m \u001b[0mzip\u001b[0m\u001b[0;34m(\u001b[0m\u001b[0mout_labels\u001b[0m\u001b[0;34m,\u001b[0m \u001b[0mouts\u001b[0m\u001b[0;34m)\u001b[0m\u001b[0;34m:\u001b[0m\u001b[0;34m\u001b[0m\u001b[0m\n",
      "\u001b[0;32m/usr/local/lib/python3.6/dist-packages/keras/backend/tensorflow_backend.py\u001b[0m in \u001b[0;36m__call__\u001b[0;34m(self, inputs)\u001b[0m\n\u001b[1;32m   2713\u001b[0m                 \u001b[0;32mreturn\u001b[0m \u001b[0mself\u001b[0m\u001b[0;34m.\u001b[0m\u001b[0m_legacy_call\u001b[0m\u001b[0;34m(\u001b[0m\u001b[0minputs\u001b[0m\u001b[0;34m)\u001b[0m\u001b[0;34m\u001b[0m\u001b[0m\n\u001b[1;32m   2714\u001b[0m \u001b[0;34m\u001b[0m\u001b[0m\n\u001b[0;32m-> 2715\u001b[0;31m             \u001b[0;32mreturn\u001b[0m \u001b[0mself\u001b[0m\u001b[0;34m.\u001b[0m\u001b[0m_call\u001b[0m\u001b[0;34m(\u001b[0m\u001b[0minputs\u001b[0m\u001b[0;34m)\u001b[0m\u001b[0;34m\u001b[0m\u001b[0m\n\u001b[0m\u001b[1;32m   2716\u001b[0m         \u001b[0;32melse\u001b[0m\u001b[0;34m:\u001b[0m\u001b[0;34m\u001b[0m\u001b[0m\n\u001b[1;32m   2717\u001b[0m             \u001b[0;32mif\u001b[0m \u001b[0mpy_any\u001b[0m\u001b[0;34m(\u001b[0m\u001b[0mis_tensor\u001b[0m\u001b[0;34m(\u001b[0m\u001b[0mx\u001b[0m\u001b[0;34m)\u001b[0m \u001b[0;32mfor\u001b[0m \u001b[0mx\u001b[0m \u001b[0;32min\u001b[0m \u001b[0minputs\u001b[0m\u001b[0;34m)\u001b[0m\u001b[0;34m:\u001b[0m\u001b[0;34m\u001b[0m\u001b[0m\n",
      "\u001b[0;32m/usr/local/lib/python3.6/dist-packages/keras/backend/tensorflow_backend.py\u001b[0m in \u001b[0;36m_call\u001b[0;34m(self, inputs)\u001b[0m\n\u001b[1;32m   2673\u001b[0m             \u001b[0mfetched\u001b[0m \u001b[0;34m=\u001b[0m \u001b[0mself\u001b[0m\u001b[0;34m.\u001b[0m\u001b[0m_callable_fn\u001b[0m\u001b[0;34m(\u001b[0m\u001b[0;34m*\u001b[0m\u001b[0marray_vals\u001b[0m\u001b[0;34m,\u001b[0m \u001b[0mrun_metadata\u001b[0m\u001b[0;34m=\u001b[0m\u001b[0mself\u001b[0m\u001b[0;34m.\u001b[0m\u001b[0mrun_metadata\u001b[0m\u001b[0;34m)\u001b[0m\u001b[0;34m\u001b[0m\u001b[0m\n\u001b[1;32m   2674\u001b[0m         \u001b[0;32melse\u001b[0m\u001b[0;34m:\u001b[0m\u001b[0;34m\u001b[0m\u001b[0m\n\u001b[0;32m-> 2675\u001b[0;31m             \u001b[0mfetched\u001b[0m \u001b[0;34m=\u001b[0m \u001b[0mself\u001b[0m\u001b[0;34m.\u001b[0m\u001b[0m_callable_fn\u001b[0m\u001b[0;34m(\u001b[0m\u001b[0;34m*\u001b[0m\u001b[0marray_vals\u001b[0m\u001b[0;34m)\u001b[0m\u001b[0;34m\u001b[0m\u001b[0m\n\u001b[0m\u001b[1;32m   2676\u001b[0m         \u001b[0;32mreturn\u001b[0m \u001b[0mfetched\u001b[0m\u001b[0;34m[\u001b[0m\u001b[0;34m:\u001b[0m\u001b[0mlen\u001b[0m\u001b[0;34m(\u001b[0m\u001b[0mself\u001b[0m\u001b[0;34m.\u001b[0m\u001b[0moutputs\u001b[0m\u001b[0;34m)\u001b[0m\u001b[0;34m]\u001b[0m\u001b[0;34m\u001b[0m\u001b[0m\n\u001b[1;32m   2677\u001b[0m \u001b[0;34m\u001b[0m\u001b[0m\n",
      "\u001b[0;32m/usr/local/lib/python3.6/dist-packages/tensorflow/python/client/session.py\u001b[0m in \u001b[0;36m__call__\u001b[0;34m(self, *args, **kwargs)\u001b[0m\n\u001b[1;32m   1397\u001b[0m           ret = tf_session.TF_SessionRunCallable(\n\u001b[1;32m   1398\u001b[0m               \u001b[0mself\u001b[0m\u001b[0;34m.\u001b[0m\u001b[0m_session\u001b[0m\u001b[0;34m.\u001b[0m\u001b[0m_session\u001b[0m\u001b[0;34m,\u001b[0m \u001b[0mself\u001b[0m\u001b[0;34m.\u001b[0m\u001b[0m_handle\u001b[0m\u001b[0;34m,\u001b[0m \u001b[0margs\u001b[0m\u001b[0;34m,\u001b[0m \u001b[0mstatus\u001b[0m\u001b[0;34m,\u001b[0m\u001b[0;34m\u001b[0m\u001b[0m\n\u001b[0;32m-> 1399\u001b[0;31m               run_metadata_ptr)\n\u001b[0m\u001b[1;32m   1400\u001b[0m         \u001b[0;32mif\u001b[0m \u001b[0mrun_metadata\u001b[0m\u001b[0;34m:\u001b[0m\u001b[0;34m\u001b[0m\u001b[0m\n\u001b[1;32m   1401\u001b[0m           \u001b[0mproto_data\u001b[0m \u001b[0;34m=\u001b[0m \u001b[0mtf_session\u001b[0m\u001b[0;34m.\u001b[0m\u001b[0mTF_GetBuffer\u001b[0m\u001b[0;34m(\u001b[0m\u001b[0mrun_metadata_ptr\u001b[0m\u001b[0;34m)\u001b[0m\u001b[0;34m\u001b[0m\u001b[0m\n",
      "\u001b[0;31mKeyboardInterrupt\u001b[0m: "
     ]
    }
   ],
   "source": [
    "model.fit(X_train, Y_train, epochs=30, batch_size=60)"
   ]
  },
  {
   "cell_type": "code",
   "execution_count": 112,
   "metadata": {},
   "outputs": [
    {
     "name": "stdout",
     "output_type": "stream",
     "text": [
      "254312/254312 [==============================] - 4s 17us/step\n",
      "\n",
      "acc: 62.81%\n"
     ]
    }
   ],
   "source": [
    "scores = model.evaluate(X_test, Y_test)\n",
    "print(\"\\n%s: %.2f%%\" % (model.metrics_names[1], scores[1]*100))"
   ]
  },
  {
   "cell_type": "code",
   "execution_count": 113,
   "metadata": {},
   "outputs": [],
   "source": [
    "model.save('model.h5')\n",
    "with open('c2id.json', 'w', encoding='utf-8') as file:\n",
    "    print(json.dumps(c2id), file=file)\n",
    "with open('back.json', 'w') as file:\n",
    "    print(json.dumps(cnts), file=file)"
   ]
  },
  {
   "cell_type": "code",
   "execution_count": 114,
   "metadata": {},
   "outputs": [
    {
     "name": "stdout",
     "output_type": "stream",
     "text": [
      "56K\tmodel.h5\r\n"
     ]
    }
   ],
   "source": [
    "!du -h model.h5"
   ]
  },
  {
   "cell_type": "code",
   "execution_count": null,
   "metadata": {},
   "outputs": [],
   "source": []
  }
 ],
 "metadata": {
  "kernelspec": {
   "display_name": "Python 3",
   "language": "python",
   "name": "python3"
  },
  "language_info": {
   "codemirror_mode": {
    "name": "ipython",
    "version": 3
   },
   "file_extension": ".py",
   "mimetype": "text/x-python",
   "name": "python",
   "nbconvert_exporter": "python",
   "pygments_lexer": "ipython3",
   "version": "3.6.6"
  }
 },
 "nbformat": 4,
 "nbformat_minor": 2
}
